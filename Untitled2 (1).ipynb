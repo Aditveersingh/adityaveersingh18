{
  "nbformat": 4,
  "nbformat_minor": 0,
  "metadata": {
    "colab": {
      "provenance": []
    },
    "kernelspec": {
      "name": "python3",
      "display_name": "Python 3"
    },
    "language_info": {
      "name": "python"
    }
  },
  "cells": [
    {
      "cell_type": "markdown",
      "source": [
        "Title of the project:Predicting customers churn for a subscription based business"
      ],
      "metadata": {
        "id": "9my0L91SyZHw"
      }
    },
    {
      "cell_type": "markdown",
      "source": [
        "Objective:\n",
        "The objective of this project is to develop a predictive model that can identify customers at risk of churning so that the business can take proactive measures to retain them."
      ],
      "metadata": {
        "id": "ZIm20c8u06gn"
      }
    },
    {
      "cell_type": "markdown",
      "source": [
        "Data source:\n",
        "The Dataset used in this project is obtained from the company's susbcription database which include customers information,susbcription status and churn status."
      ],
      "metadata": {
        "id": "zFojDgr51eJR"
      }
    },
    {
      "cell_type": "markdown",
      "source": [
        "Import library:"
      ],
      "metadata": {
        "id": "t7Q1m3Bi2lDj"
      }
    },
    {
      "cell_type": "code",
      "source": [
        "import pandas as pd\n",
        "import numpy as np\n",
        "import matplotlib.pyplot as plt\n",
        "import seaborn as sns\n",
        "from sklearn.model_selection import train_test_split\n",
        "from sklearn.ensemble import RandomForestClassifier\n",
        "from sklearn.metrics import accuracy_score, confusion_matrix, classification_report\n"
      ],
      "metadata": {
        "id": "9JW0fhQO2HHr"
      },
      "execution_count": null,
      "outputs": []
    },
    {
      "cell_type": "markdown",
      "source": [
        "Import Data:\n",
        "Load the dataset into Dataframe"
      ],
      "metadata": {
        "id": "07uZDkjH3I7P"
      }
    },
    {
      "cell_type": "code",
      "source": [
        "data = pd.read_csv('subscription_data.csv')\n"
      ],
      "metadata": {
        "id": "C447bRhO3Uet"
      },
      "execution_count": null,
      "outputs": []
    },
    {
      "cell_type": "markdown",
      "source": [
        "Describe Data:\n",
        "Provide a breif overview of the dataset,including the number of rows and column,data types and summary statistics."
      ],
      "metadata": {
        "id": "EW0ATR0j3aYF"
      }
    },
    {
      "cell_type": "code",
      "source": [
        "print(data.shape)\n",
        "print(data.info())\n",
        "print(data.describe())\n"
      ],
      "metadata": {
        "id": "5EIxw0QD4cRi"
      },
      "execution_count": null,
      "outputs": []
    },
    {
      "cell_type": "markdown",
      "source": [
        "Data Visualisation:\n",
        "Create Data visualisation to gain insights into customer behavior"
      ],
      "metadata": {
        "id": "-S87nLCJ4fJv"
      }
    },
    {
      "cell_type": "code",
      "source": [
        "# Example: Plot a bar chart of churn vs. non-churn customers\n",
        "sns.countplot(x='Churn', data=data)\n",
        "plt.title('Churn vs. Non-Churn Customers')\n",
        "plt.show()\n"
      ],
      "metadata": {
        "id": "KHye3lEv43PB"
      },
      "execution_count": null,
      "outputs": []
    },
    {
      "cell_type": "markdown",
      "source": [
        "Data Preprocessing:\n",
        "Prepare the data for modeling by handling missing values,categorical values,and scaling numerical features if necessary."
      ],
      "metadata": {
        "id": "A2QqZNuY5EMC"
      }
    },
    {
      "cell_type": "code",
      "source": [
        "# Example: Handle missing values\n",
        "data.dropna(inplace=True)\n",
        "\n",
        "# Encode categorical variables\n",
        "data = pd.get_dummies(data, columns=['PaymentMethod', 'InternetService'])\n"
      ],
      "metadata": {
        "id": "ZZI8itqz5tcq"
      },
      "execution_count": null,
      "outputs": []
    },
    {
      "cell_type": "markdown",
      "source": [
        "Define Target Variable [y] and Features Variables [x]"
      ],
      "metadata": {
        "id": "d7K3myTk5w-y"
      }
    },
    {
      "cell_type": "code",
      "source": [
        "X = data.drop('Churn', axis=1)\n",
        "y = data['Churn']\n"
      ],
      "metadata": {
        "id": "msuL7yp46OQl"
      },
      "execution_count": null,
      "outputs": []
    },
    {
      "cell_type": "markdown",
      "source": [
        "Train-Test Split:\n",
        "Split the dataset into training and testing sets."
      ],
      "metadata": {
        "id": "b_zDyl8J6Qdt"
      }
    },
    {
      "cell_type": "code",
      "source": [
        "X_train, X_test, y_train, y_test = train_test_split(X, y, test_size=0.2, random_state=42)\n"
      ],
      "metadata": {
        "id": "Q43LoQWh6-fM"
      },
      "execution_count": null,
      "outputs": []
    },
    {
      "cell_type": "markdown",
      "source": [
        "Modeling:\n",
        "Build a predictive model,such as a Random Forest Classifier."
      ],
      "metadata": {
        "id": "T_KlWCIX6_-F"
      }
    },
    {
      "cell_type": "code",
      "source": [
        "model = RandomForestClassifier(n_estimators=100, random_state=42)\n",
        "model.fit(X_train, y_train)\n"
      ],
      "metadata": {
        "id": "pM27Supl7asy"
      },
      "execution_count": null,
      "outputs": []
    },
    {
      "cell_type": "markdown",
      "source": [
        "Model Evaluation:\n",
        "Evaluate the model's performance using Appropriate metrics."
      ],
      "metadata": {
        "id": "U7tMhOLI7gk6"
      }
    },
    {
      "cell_type": "code",
      "source": [
        "y_pred = model.predict(X_test)\n",
        "accuracy = accuracy_score(y_test, y_pred)\n",
        "conf_matrix = confusion_matrix(y_test, y_pred)\n",
        "classification_rep = classification_report(y_test, y_pred)\n",
        "\n",
        "print(f'Accuracy: {accuracy}')\n",
        "print(f'Confusion Matrix:\\n{conf_matrix}')\n",
        "print(f'Classification Report:\\n{classification_rep}')\n"
      ],
      "metadata": {
        "id": "ZDEhRSFK7-p4"
      },
      "execution_count": null,
      "outputs": []
    },
    {
      "cell_type": "markdown",
      "source": [
        "Prediction:\n",
        "Use the model to make predictions on new data.\n"
      ],
      "metadata": {
        "id": "dFWTeKCm8A7y"
      }
    },
    {
      "cell_type": "code",
      "source": [
        "# Example: Predict churn for a new customer\n",
        "new_customer_data = pd.DataFrame(...)  # Input customer data\n",
        "churn_prediction = model.predict(new_customer_data)\n",
        "print(f'Churn Prediction: {churn_prediction[0]}')\n"
      ],
      "metadata": {
        "id": "FnqVSNjM8YI3"
      },
      "execution_count": null,
      "outputs": []
    },
    {
      "cell_type": "markdown",
      "source": [
        "Explanation:\n",
        "Provide an explanation od the models performance,insights gained from analysis,and reccomendations for the business based on the findings."
      ],
      "metadata": {
        "id": "NvHEEj668eYK"
      }
    }
  ]
}